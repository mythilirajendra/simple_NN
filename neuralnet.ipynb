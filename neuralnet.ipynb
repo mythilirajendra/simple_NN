{
  "nbformat": 4,
  "nbformat_minor": 0,
  "metadata": {
    "colab": {
      "name": "neuralnet.ipynb",
      "version": "0.3.2",
      "provenance": [],
      "collapsed_sections": []
    },
    "kernelspec": {
      "name": "python3",
      "display_name": "Python 3"
    }
  },
  "cells": [
    {
      "metadata": {
        "id": "k0y6JGxwYYf0",
        "colab_type": "code",
        "outputId": "24e216d8-19f3-4ba6-d48b-1038b9d9fa6f",
        "colab": {
          "base_uri": "https://localhost:8080/",
          "height": 34
        }
      },
      "cell_type": "code",
      "source": [
        "from keras.models import Sequential"
      ],
      "execution_count": 0,
      "outputs": [
        {
          "output_type": "stream",
          "text": [
            "Using TensorFlow backend.\n"
          ],
          "name": "stderr"
        }
      ]
    },
    {
      "metadata": {
        "id": "qlmTWh6yZpFy",
        "colab_type": "code",
        "outputId": "28c25274-61dd-40f7-f3fa-0fdda7951083",
        "colab": {
          "resources": {
            "http://localhost:8080/nbextensions/google.colab/files.js": {
              "data": "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",
              "ok": true,
              "headers": [
                [
                  "content-type",
                  "application/javascript"
                ]
              ],
              "status": 200,
              "status_text": ""
            }
          },
          "base_uri": "https://localhost:8080/",
          "height": 74
        }
      },
      "cell_type": "code",
      "source": [
        "from keras.layers import Dense\n",
        "import numpy as np\n",
        "np.random.seed(3)\n",
        "from google.colab import files\n",
        "uploaded=files.upload()\n",
        "dataset=np.loadtxt(\"pima-indians-diabetes.csv\",delimiter=\",\")\n",
        "X=dataset[:,0:8]   #try -1\n",
        "Y=dataset[:,8]\n"
      ],
      "execution_count": 0,
      "outputs": [
        {
          "output_type": "display_data",
          "data": {
            "text/html": [
              "\n",
              "     <input type=\"file\" id=\"files-c9dd74ad-99c8-44da-aaca-beb4a2fa55d9\" name=\"files[]\" multiple disabled />\n",
              "     <output id=\"result-c9dd74ad-99c8-44da-aaca-beb4a2fa55d9\">\n",
              "      Upload widget is only available when the cell has been executed in the\n",
              "      current browser session. Please rerun this cell to enable.\n",
              "      </output>\n",
              "      <script src=\"/nbextensions/google.colab/files.js\"></script> "
            ],
            "text/plain": [
              "<IPython.core.display.HTML object>"
            ]
          },
          "metadata": {
            "tags": []
          }
        },
        {
          "output_type": "stream",
          "text": [
            "Saving pima-indians-diabetes.csv to pima-indians-diabetes.csv\n"
          ],
          "name": "stdout"
        }
      ]
    },
    {
      "metadata": {
        "id": "ftgG5trgybJH",
        "colab_type": "code",
        "outputId": "88e9fe14-22cb-4be5-edc2-5e142477d413",
        "colab": {
          "base_uri": "https://localhost:8080/",
          "height": 88
        }
      },
      "cell_type": "code",
      "source": [
        "model=Sequential()\n",
        "model.add(Dense(12,input_dim=8,activation='relu'))\n",
        "model.add(Dense(8,activation='relu'))\n",
        "model.add(Dense(1,activation='sigmoid'))\n"
      ],
      "execution_count": 0,
      "outputs": [
        {
          "output_type": "stream",
          "text": [
            "WARNING:tensorflow:From /usr/local/lib/python3.6/dist-packages/tensorflow/python/framework/op_def_library.py:263: colocate_with (from tensorflow.python.framework.ops) is deprecated and will be removed in a future version.\n",
            "Instructions for updating:\n",
            "Colocations handled automatically by placer.\n"
          ],
          "name": "stdout"
        }
      ]
    },
    {
      "metadata": {
        "id": "xSz3SdOj6bqJ",
        "colab_type": "code",
        "colab": {}
      },
      "cell_type": "code",
      "source": [
        "model.compile(loss='binary_crossentropy',optimizer='adam',metrics=['accuracy'])"
      ],
      "execution_count": 0,
      "outputs": []
    },
    {
      "metadata": {
        "id": "WHefINcJEASj",
        "colab_type": "code",
        "outputId": "6074ac7b-162a-4913-a05f-30ea57c1c817",
        "colab": {
          "base_uri": "https://localhost:8080/",
          "height": 5134
        }
      },
      "cell_type": "code",
      "source": [
        "X_train=X[0:-150,:]\n",
        "X_test=X[-150:,:]\n",
        "Y_train=Y[0:-150]\n",
        "Y_test=Y[-150:]\n",
        "model.fit(X_train,Y_train,epochs=150,batch_size=10)"
      ],
      "execution_count": 26,
      "outputs": [
        {
          "output_type": "stream",
          "text": [
            "Epoch 1/150\n",
            "618/618 [==============================] - 0s 123us/step - loss: 0.4885 - acc: 0.7638\n",
            "Epoch 2/150\n",
            "618/618 [==============================] - 0s 111us/step - loss: 0.4932 - acc: 0.7638\n",
            "Epoch 3/150\n",
            "618/618 [==============================] - 0s 116us/step - loss: 0.4956 - acc: 0.7718\n",
            "Epoch 4/150\n",
            "618/618 [==============================] - 0s 119us/step - loss: 0.4889 - acc: 0.7573\n",
            "Epoch 5/150\n",
            "618/618 [==============================] - 0s 115us/step - loss: 0.4892 - acc: 0.7589\n",
            "Epoch 6/150\n",
            "618/618 [==============================] - 0s 130us/step - loss: 0.4841 - acc: 0.7638\n",
            "Epoch 7/150\n",
            "618/618 [==============================] - 0s 113us/step - loss: 0.4940 - acc: 0.7638\n",
            "Epoch 8/150\n",
            "618/618 [==============================] - 0s 112us/step - loss: 0.4950 - acc: 0.7573\n",
            "Epoch 9/150\n",
            "618/618 [==============================] - 0s 114us/step - loss: 0.4906 - acc: 0.7638\n",
            "Epoch 10/150\n",
            "618/618 [==============================] - 0s 115us/step - loss: 0.4859 - acc: 0.7524\n",
            "Epoch 11/150\n",
            "618/618 [==============================] - 0s 118us/step - loss: 0.4873 - acc: 0.7524\n",
            "Epoch 12/150\n",
            "618/618 [==============================] - 0s 113us/step - loss: 0.4829 - acc: 0.7686\n",
            "Epoch 13/150\n",
            "618/618 [==============================] - 0s 121us/step - loss: 0.4828 - acc: 0.7670\n",
            "Epoch 14/150\n",
            "618/618 [==============================] - 0s 118us/step - loss: 0.4884 - acc: 0.7557\n",
            "Epoch 15/150\n",
            "618/618 [==============================] - 0s 114us/step - loss: 0.4862 - acc: 0.7686\n",
            "Epoch 16/150\n",
            "618/618 [==============================] - 0s 122us/step - loss: 0.4862 - acc: 0.7654\n",
            "Epoch 17/150\n",
            "618/618 [==============================] - 0s 128us/step - loss: 0.4863 - acc: 0.7735\n",
            "Epoch 18/150\n",
            "618/618 [==============================] - 0s 116us/step - loss: 0.4827 - acc: 0.7751\n",
            "Epoch 19/150\n",
            "618/618 [==============================] - 0s 110us/step - loss: 0.4884 - acc: 0.7670\n",
            "Epoch 20/150\n",
            "618/618 [==============================] - 0s 122us/step - loss: 0.4853 - acc: 0.7735\n",
            "Epoch 21/150\n",
            "618/618 [==============================] - 0s 111us/step - loss: 0.4862 - acc: 0.7654\n",
            "Epoch 22/150\n",
            "618/618 [==============================] - 0s 116us/step - loss: 0.4918 - acc: 0.7670\n",
            "Epoch 23/150\n",
            "618/618 [==============================] - 0s 121us/step - loss: 0.4804 - acc: 0.7670\n",
            "Epoch 24/150\n",
            "618/618 [==============================] - 0s 121us/step - loss: 0.4901 - acc: 0.7638\n",
            "Epoch 25/150\n",
            "618/618 [==============================] - 0s 117us/step - loss: 0.4801 - acc: 0.7638\n",
            "Epoch 26/150\n",
            "618/618 [==============================] - 0s 114us/step - loss: 0.4841 - acc: 0.7702\n",
            "Epoch 27/150\n",
            "618/618 [==============================] - 0s 113us/step - loss: 0.5008 - acc: 0.7492\n",
            "Epoch 28/150\n",
            "618/618 [==============================] - 0s 113us/step - loss: 0.4791 - acc: 0.7735\n",
            "Epoch 29/150\n",
            "618/618 [==============================] - 0s 113us/step - loss: 0.4834 - acc: 0.7605\n",
            "Epoch 30/150\n",
            "618/618 [==============================] - 0s 114us/step - loss: 0.4884 - acc: 0.7686\n",
            "Epoch 31/150\n",
            "618/618 [==============================] - 0s 110us/step - loss: 0.4860 - acc: 0.7735\n",
            "Epoch 32/150\n",
            "618/618 [==============================] - 0s 111us/step - loss: 0.4764 - acc: 0.7735\n",
            "Epoch 33/150\n",
            "618/618 [==============================] - 0s 115us/step - loss: 0.4768 - acc: 0.7605\n",
            "Epoch 34/150\n",
            "618/618 [==============================] - 0s 112us/step - loss: 0.4851 - acc: 0.7702\n",
            "Epoch 35/150\n",
            "618/618 [==============================] - 0s 110us/step - loss: 0.4782 - acc: 0.7702\n",
            "Epoch 36/150\n",
            "618/618 [==============================] - 0s 111us/step - loss: 0.4793 - acc: 0.7767\n",
            "Epoch 37/150\n",
            "618/618 [==============================] - 0s 117us/step - loss: 0.4872 - acc: 0.7589\n",
            "Epoch 38/150\n",
            "618/618 [==============================] - 0s 108us/step - loss: 0.4809 - acc: 0.7686\n",
            "Epoch 39/150\n",
            "618/618 [==============================] - 0s 117us/step - loss: 0.4785 - acc: 0.7670\n",
            "Epoch 40/150\n",
            "618/618 [==============================] - 0s 119us/step - loss: 0.4808 - acc: 0.7638\n",
            "Epoch 41/150\n",
            "618/618 [==============================] - 0s 119us/step - loss: 0.4838 - acc: 0.7799\n",
            "Epoch 42/150\n",
            "618/618 [==============================] - 0s 116us/step - loss: 0.4802 - acc: 0.7735\n",
            "Epoch 43/150\n",
            "618/618 [==============================] - 0s 113us/step - loss: 0.4817 - acc: 0.7540\n",
            "Epoch 44/150\n",
            "618/618 [==============================] - 0s 113us/step - loss: 0.4854 - acc: 0.7605\n",
            "Epoch 45/150\n",
            "618/618 [==============================] - 0s 115us/step - loss: 0.4955 - acc: 0.7621\n",
            "Epoch 46/150\n",
            "618/618 [==============================] - 0s 118us/step - loss: 0.4809 - acc: 0.7718\n",
            "Epoch 47/150\n",
            "618/618 [==============================] - 0s 117us/step - loss: 0.4849 - acc: 0.7621\n",
            "Epoch 48/150\n",
            "618/618 [==============================] - 0s 126us/step - loss: 0.4724 - acc: 0.7767\n",
            "Epoch 49/150\n",
            "618/618 [==============================] - 0s 115us/step - loss: 0.4772 - acc: 0.7621\n",
            "Epoch 50/150\n",
            "618/618 [==============================] - 0s 117us/step - loss: 0.4765 - acc: 0.7896\n",
            "Epoch 51/150\n",
            "618/618 [==============================] - 0s 115us/step - loss: 0.4827 - acc: 0.7654\n",
            "Epoch 52/150\n",
            "618/618 [==============================] - 0s 116us/step - loss: 0.4798 - acc: 0.7638\n",
            "Epoch 53/150\n",
            "618/618 [==============================] - 0s 114us/step - loss: 0.4752 - acc: 0.7702\n",
            "Epoch 54/150\n",
            "618/618 [==============================] - 0s 121us/step - loss: 0.4730 - acc: 0.7702\n",
            "Epoch 55/150\n",
            "618/618 [==============================] - 0s 117us/step - loss: 0.4795 - acc: 0.7686\n",
            "Epoch 56/150\n",
            "618/618 [==============================] - 0s 129us/step - loss: 0.4802 - acc: 0.7816\n",
            "Epoch 57/150\n",
            "618/618 [==============================] - 0s 120us/step - loss: 0.4810 - acc: 0.7670\n",
            "Epoch 58/150\n",
            "618/618 [==============================] - 0s 119us/step - loss: 0.4816 - acc: 0.7816\n",
            "Epoch 59/150\n",
            "618/618 [==============================] - 0s 115us/step - loss: 0.4777 - acc: 0.7718\n",
            "Epoch 60/150\n",
            "618/618 [==============================] - 0s 118us/step - loss: 0.4747 - acc: 0.7735\n",
            "Epoch 61/150\n",
            "618/618 [==============================] - 0s 111us/step - loss: 0.4762 - acc: 0.7751\n",
            "Epoch 62/150\n",
            "618/618 [==============================] - 0s 112us/step - loss: 0.4773 - acc: 0.7735\n",
            "Epoch 63/150\n",
            "618/618 [==============================] - 0s 113us/step - loss: 0.4816 - acc: 0.7686\n",
            "Epoch 64/150\n",
            "618/618 [==============================] - 0s 113us/step - loss: 0.4850 - acc: 0.7783\n",
            "Epoch 65/150\n",
            "618/618 [==============================] - 0s 113us/step - loss: 0.4749 - acc: 0.7864\n",
            "Epoch 66/150\n",
            "618/618 [==============================] - 0s 113us/step - loss: 0.4778 - acc: 0.7799\n",
            "Epoch 67/150\n",
            "618/618 [==============================] - 0s 110us/step - loss: 0.4902 - acc: 0.7702\n",
            "Epoch 68/150\n",
            "618/618 [==============================] - 0s 112us/step - loss: 0.4793 - acc: 0.7654\n",
            "Epoch 69/150\n",
            "618/618 [==============================] - 0s 109us/step - loss: 0.4736 - acc: 0.7735\n",
            "Epoch 70/150\n",
            "618/618 [==============================] - 0s 111us/step - loss: 0.4709 - acc: 0.7799\n",
            "Epoch 71/150\n",
            "618/618 [==============================] - 0s 115us/step - loss: 0.4730 - acc: 0.7799\n",
            "Epoch 72/150\n",
            "618/618 [==============================] - 0s 119us/step - loss: 0.4685 - acc: 0.7735\n",
            "Epoch 73/150\n",
            "618/618 [==============================] - 0s 114us/step - loss: 0.4842 - acc: 0.7735\n",
            "Epoch 74/150\n",
            "618/618 [==============================] - 0s 115us/step - loss: 0.4727 - acc: 0.7767\n",
            "Epoch 75/150\n",
            "618/618 [==============================] - 0s 119us/step - loss: 0.4709 - acc: 0.7864\n",
            "Epoch 76/150\n",
            "618/618 [==============================] - 0s 117us/step - loss: 0.4696 - acc: 0.7864\n",
            "Epoch 77/150\n",
            "618/618 [==============================] - 0s 115us/step - loss: 0.4713 - acc: 0.7848\n",
            "Epoch 78/150\n",
            "618/618 [==============================] - 0s 118us/step - loss: 0.4679 - acc: 0.7783\n",
            "Epoch 79/150\n",
            "618/618 [==============================] - 0s 114us/step - loss: 0.4819 - acc: 0.7767\n",
            "Epoch 80/150\n",
            "618/618 [==============================] - 0s 127us/step - loss: 0.4751 - acc: 0.7896\n",
            "Epoch 81/150\n",
            "618/618 [==============================] - 0s 117us/step - loss: 0.4708 - acc: 0.7751\n",
            "Epoch 82/150\n",
            "618/618 [==============================] - 0s 117us/step - loss: 0.4739 - acc: 0.7735\n",
            "Epoch 83/150\n",
            "618/618 [==============================] - 0s 117us/step - loss: 0.4656 - acc: 0.7799\n",
            "Epoch 84/150\n",
            "618/618 [==============================] - 0s 114us/step - loss: 0.4719 - acc: 0.7718\n",
            "Epoch 85/150\n",
            "618/618 [==============================] - 0s 109us/step - loss: 0.4731 - acc: 0.7799\n",
            "Epoch 86/150\n",
            "618/618 [==============================] - 0s 113us/step - loss: 0.4805 - acc: 0.7638\n",
            "Epoch 87/150\n",
            "618/618 [==============================] - 0s 114us/step - loss: 0.4736 - acc: 0.7832\n",
            "Epoch 88/150\n",
            "618/618 [==============================] - 0s 124us/step - loss: 0.4693 - acc: 0.7589\n",
            "Epoch 89/150\n",
            "618/618 [==============================] - 0s 116us/step - loss: 0.4702 - acc: 0.7718\n",
            "Epoch 90/150\n",
            "618/618 [==============================] - 0s 111us/step - loss: 0.4700 - acc: 0.7816\n",
            "Epoch 91/150\n",
            "618/618 [==============================] - 0s 116us/step - loss: 0.4702 - acc: 0.7799\n",
            "Epoch 92/150\n",
            "618/618 [==============================] - 0s 119us/step - loss: 0.4692 - acc: 0.7799\n",
            "Epoch 93/150\n",
            "618/618 [==============================] - 0s 115us/step - loss: 0.4703 - acc: 0.7816\n",
            "Epoch 94/150\n",
            "618/618 [==============================] - 0s 116us/step - loss: 0.4775 - acc: 0.7718\n",
            "Epoch 95/150\n",
            "618/618 [==============================] - 0s 117us/step - loss: 0.4660 - acc: 0.7783\n",
            "Epoch 96/150\n",
            "618/618 [==============================] - 0s 115us/step - loss: 0.4712 - acc: 0.7783\n",
            "Epoch 97/150\n",
            "618/618 [==============================] - 0s 118us/step - loss: 0.4698 - acc: 0.7848\n",
            "Epoch 98/150\n",
            "618/618 [==============================] - 0s 126us/step - loss: 0.4672 - acc: 0.7621\n",
            "Epoch 99/150\n",
            "618/618 [==============================] - 0s 113us/step - loss: 0.4712 - acc: 0.7718\n",
            "Epoch 100/150\n",
            "618/618 [==============================] - 0s 111us/step - loss: 0.4640 - acc: 0.7816\n",
            "Epoch 101/150\n",
            "618/618 [==============================] - 0s 115us/step - loss: 0.4677 - acc: 0.7686\n",
            "Epoch 102/150\n",
            "618/618 [==============================] - 0s 113us/step - loss: 0.4728 - acc: 0.7799\n",
            "Epoch 103/150\n",
            "618/618 [==============================] - 0s 118us/step - loss: 0.4630 - acc: 0.7832\n",
            "Epoch 104/150\n",
            "618/618 [==============================] - 0s 119us/step - loss: 0.4742 - acc: 0.7686\n",
            "Epoch 105/150\n",
            "618/618 [==============================] - 0s 111us/step - loss: 0.4684 - acc: 0.7718\n",
            "Epoch 106/150\n",
            "618/618 [==============================] - 0s 125us/step - loss: 0.4670 - acc: 0.7848\n",
            "Epoch 107/150\n",
            "618/618 [==============================] - 0s 110us/step - loss: 0.4666 - acc: 0.7929\n",
            "Epoch 108/150\n",
            "618/618 [==============================] - 0s 113us/step - loss: 0.4812 - acc: 0.7670\n",
            "Epoch 109/150\n",
            "618/618 [==============================] - 0s 112us/step - loss: 0.4716 - acc: 0.7751\n",
            "Epoch 110/150\n",
            "618/618 [==============================] - 0s 114us/step - loss: 0.4668 - acc: 0.7816\n",
            "Epoch 111/150\n",
            "618/618 [==============================] - 0s 123us/step - loss: 0.4666 - acc: 0.7832\n",
            "Epoch 112/150\n",
            "618/618 [==============================] - 0s 118us/step - loss: 0.4654 - acc: 0.7896\n",
            "Epoch 113/150\n",
            "618/618 [==============================] - 0s 114us/step - loss: 0.4705 - acc: 0.7816\n",
            "Epoch 114/150\n",
            "618/618 [==============================] - 0s 124us/step - loss: 0.4646 - acc: 0.7913\n",
            "Epoch 115/150\n",
            "618/618 [==============================] - 0s 110us/step - loss: 0.4684 - acc: 0.7816\n",
            "Epoch 116/150\n",
            "618/618 [==============================] - 0s 115us/step - loss: 0.4704 - acc: 0.7751\n",
            "Epoch 117/150\n",
            "618/618 [==============================] - 0s 117us/step - loss: 0.4696 - acc: 0.7848\n",
            "Epoch 118/150\n",
            "618/618 [==============================] - 0s 121us/step - loss: 0.4670 - acc: 0.7783\n",
            "Epoch 119/150\n",
            "618/618 [==============================] - 0s 114us/step - loss: 0.4701 - acc: 0.7816\n",
            "Epoch 120/150\n",
            "618/618 [==============================] - 0s 116us/step - loss: 0.4690 - acc: 0.7783\n",
            "Epoch 121/150\n",
            "618/618 [==============================] - 0s 125us/step - loss: 0.4671 - acc: 0.7621\n",
            "Epoch 122/150\n",
            "618/618 [==============================] - 0s 112us/step - loss: 0.4634 - acc: 0.7783\n",
            "Epoch 123/150\n",
            "618/618 [==============================] - 0s 114us/step - loss: 0.4678 - acc: 0.7735\n",
            "Epoch 124/150\n",
            "618/618 [==============================] - 0s 112us/step - loss: 0.4726 - acc: 0.7751\n",
            "Epoch 125/150\n",
            "618/618 [==============================] - 0s 123us/step - loss: 0.4664 - acc: 0.7767\n",
            "Epoch 126/150\n",
            "618/618 [==============================] - 0s 114us/step - loss: 0.4641 - acc: 0.7864\n",
            "Epoch 127/150\n",
            "618/618 [==============================] - 0s 112us/step - loss: 0.4690 - acc: 0.7832\n",
            "Epoch 128/150\n",
            "618/618 [==============================] - 0s 115us/step - loss: 0.4749 - acc: 0.7735\n",
            "Epoch 129/150\n",
            "618/618 [==============================] - 0s 111us/step - loss: 0.4675 - acc: 0.7718\n",
            "Epoch 130/150\n",
            "618/618 [==============================] - 0s 115us/step - loss: 0.4632 - acc: 0.7880\n",
            "Epoch 131/150\n",
            "618/618 [==============================] - 0s 118us/step - loss: 0.4653 - acc: 0.7929\n",
            "Epoch 132/150\n",
            "618/618 [==============================] - 0s 114us/step - loss: 0.4601 - acc: 0.7816\n",
            "Epoch 133/150\n",
            "618/618 [==============================] - 0s 119us/step - loss: 0.4664 - acc: 0.7848\n",
            "Epoch 134/150\n",
            "618/618 [==============================] - 0s 116us/step - loss: 0.4713 - acc: 0.7832\n",
            "Epoch 135/150\n",
            "618/618 [==============================] - 0s 114us/step - loss: 0.4604 - acc: 0.7896\n",
            "Epoch 136/150\n",
            "618/618 [==============================] - 0s 119us/step - loss: 0.4624 - acc: 0.7913\n",
            "Epoch 137/150\n",
            "618/618 [==============================] - 0s 113us/step - loss: 0.4683 - acc: 0.7832\n",
            "Epoch 138/150\n",
            "618/618 [==============================] - 0s 120us/step - loss: 0.4758 - acc: 0.7718\n",
            "Epoch 139/150\n",
            "618/618 [==============================] - 0s 110us/step - loss: 0.4657 - acc: 0.7751\n",
            "Epoch 140/150\n",
            "618/618 [==============================] - 0s 115us/step - loss: 0.4688 - acc: 0.7832\n",
            "Epoch 141/150\n",
            "618/618 [==============================] - 0s 116us/step - loss: 0.4670 - acc: 0.7832\n",
            "Epoch 142/150\n",
            "618/618 [==============================] - 0s 112us/step - loss: 0.4711 - acc: 0.7718\n",
            "Epoch 143/150\n",
            "618/618 [==============================] - 0s 115us/step - loss: 0.4639 - acc: 0.7880\n",
            "Epoch 144/150\n",
            "618/618 [==============================] - 0s 113us/step - loss: 0.4612 - acc: 0.7864\n",
            "Epoch 145/150\n",
            "618/618 [==============================] - 0s 111us/step - loss: 0.4588 - acc: 0.7864\n",
            "Epoch 146/150\n",
            "618/618 [==============================] - 0s 116us/step - loss: 0.4567 - acc: 0.7913\n",
            "Epoch 147/150\n",
            "618/618 [==============================] - 0s 114us/step - loss: 0.4608 - acc: 0.7880\n",
            "Epoch 148/150\n",
            "618/618 [==============================] - 0s 114us/step - loss: 0.4718 - acc: 0.7832\n",
            "Epoch 149/150\n",
            "618/618 [==============================] - 0s 116us/step - loss: 0.4614 - acc: 0.7832\n",
            "Epoch 150/150\n",
            "618/618 [==============================] - 0s 110us/step - loss: 0.4591 - acc: 0.7783\n"
          ],
          "name": "stdout"
        },
        {
          "output_type": "execute_result",
          "data": {
            "text/plain": [
              "<keras.callbacks.History at 0x7f4a03d034e0>"
            ]
          },
          "metadata": {
            "tags": []
          },
          "execution_count": 26
        }
      ]
    },
    {
      "metadata": {
        "id": "IgCl1gZlEbwt",
        "colab_type": "code",
        "outputId": "5e14ac15-f2bc-4e89-f28b-4339990f3585",
        "colab": {
          "base_uri": "https://localhost:8080/",
          "height": 51
        }
      },
      "cell_type": "code",
      "source": [
        "scores=model.evaluate(X_train,Y_train)\n",
        "print(\"accuracy: %.2f%%\" % (scores[1]*100))"
      ],
      "execution_count": 27,
      "outputs": [
        {
          "output_type": "stream",
          "text": [
            "618/618 [==============================] - 0s 51us/step\n",
            "accuracy: 79.45%\n"
          ],
          "name": "stdout"
        }
      ]
    },
    {
      "metadata": {
        "id": "_RD1irqEQHzQ",
        "colab_type": "code",
        "outputId": "5715ccba-001f-475e-97dc-ffb0a0f98977",
        "colab": {
          "base_uri": "https://localhost:8080/",
          "height": 54
        }
      },
      "cell_type": "code",
      "source": [
        "predictions= model.predict(X_test)\n",
        "rounded=[round(x[0]) for x in predictions]\n",
        "print(rounded)"
      ],
      "execution_count": 28,
      "outputs": [
        {
          "output_type": "stream",
          "text": [
            "[1.0, 1.0, 0.0, 0.0, 1.0, 0.0, 0.0, 0.0, 0.0, 0.0, 1.0, 0.0, 1.0, 0.0, 0.0, 0.0, 0.0, 1.0, 0.0, 0.0, 0.0, 0.0, 0.0, 0.0, 1.0, 0.0, 0.0, 0.0, 0.0, 1.0, 1.0, 0.0, 0.0, 0.0, 0.0, 0.0, 0.0, 0.0, 0.0, 1.0, 0.0, 0.0, 1.0, 1.0, 1.0, 1.0, 1.0, 0.0, 0.0, 0.0, 1.0, 0.0, 1.0, 0.0, 0.0, 0.0, 0.0, 1.0, 1.0, 0.0, 1.0, 0.0, 0.0, 1.0, 0.0, 0.0, 0.0, 0.0, 0.0, 0.0, 0.0, 1.0, 0.0, 1.0, 0.0, 1.0, 0.0, 0.0, 1.0, 1.0, 0.0, 1.0, 0.0, 1.0, 1.0, 1.0, 0.0, 0.0, 0.0, 0.0, 1.0, 0.0, 0.0, 0.0, 1.0, 0.0, 0.0, 1.0, 1.0, 0.0, 1.0, 0.0, 0.0, 0.0, 0.0, 0.0, 0.0, 0.0, 0.0, 0.0, 0.0, 0.0, 0.0, 0.0, 1.0, 0.0, 0.0, 0.0, 0.0, 0.0, 0.0, 0.0, 1.0, 0.0, 0.0, 1.0, 1.0, 0.0, 0.0, 0.0, 1.0, 1.0, 1.0, 0.0, 0.0, 0.0, 1.0, 0.0, 0.0, 1.0, 0.0, 1.0, 0.0, 1.0, 0.0, 0.0, 0.0, 0.0, 1.0, 0.0]\n"
          ],
          "name": "stdout"
        }
      ]
    }
  ]
}